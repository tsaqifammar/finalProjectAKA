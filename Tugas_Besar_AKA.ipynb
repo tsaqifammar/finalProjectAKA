{
  "nbformat": 4,
  "nbformat_minor": 0,
  "metadata": {
    "colab": {
      "name": "Tugas Besar AKA.ipynb",
      "provenance": [],
      "collapsed_sections": [],
      "authorship_tag": "ABX9TyOkwPvi9Vd2GoC7HhBjL5cX"
    },
    "kernelspec": {
      "name": "python3",
      "display_name": "Python 3"
    }
  },
  "cells": [
    {
      "cell_type": "markdown",
      "metadata": {
        "id": "93atQMApxnaE"
      },
      "source": [
        "# **Tugas Besar AKA**\r\n",
        "\r\n",
        "### **Anggota Kelompok** :\r\n",
        "  1. Muhammad Tsaqif Ammar (1301194222)\r\n",
        "  2. I Made Krishna Vrindavana (1301194270)\r\n",
        "\r\n",
        "### **Deskripsi Program** :\r\n",
        "  Dalam program ini, akan dilakukan perbandingan execution time dari 2 algoritma pengurutan berbeda, yaitu Bubble Sort dan Gnome Sort."
      ]
    },
    {
      "cell_type": "markdown",
      "metadata": {
        "id": "Qavp_kbcylkY"
      },
      "source": [
        "# Library yang dibutuhkan :\r\n",
        "1. `random`, untuk men-generate sebuah list berisikan bilangan random dalam suatu range.\r\n",
        "2. `time`, untuk mencatat waktu eksekusi\r\n",
        "3. `matplotlib.pyplot`, untuk membuat visualisasi data"
      ]
    },
    {
      "cell_type": "code",
      "metadata": {
        "id": "jVwKzQGHxQYH"
      },
      "source": [
        "import random\r\n",
        "import time\r\n",
        "import matplotlib.pyplot as plt"
      ],
      "execution_count": null,
      "outputs": []
    },
    {
      "cell_type": "code",
      "metadata": {
        "id": "GPcmbChfzOo2"
      },
      "source": [
        "def generateInput(n, kasus):\r\n",
        "  \"\"\"\r\n",
        "    Fungsi akan mengembalikan array yang akan digunakan\r\n",
        "    saat pemrosesan menggunakan algoritma pengurutannya\r\n",
        "  \r\n",
        "    I.S. : `n` berisikan panjang array, `kasus` antara 1, 2, atau 3\r\n",
        "           dimana 1 berarti menaik, 2 berarti menurun, 3 berarti acak.\r\n",
        "    F.S. : fungsi mengembalikan sebuah array dengan panjang `n` dengan\r\n",
        "           kondisi sesuai dengan `kasus`.\r\n",
        "  \"\"\"\r\n",
        "\r\n",
        "  if kasus == 1:\r\n",
        "    return list(range(1, n+1))\r\n",
        "  elif kasus == 2:\r\n",
        "    return list(reversed(range(1, n+1)))\r\n",
        "  else:\r\n",
        "    return random.sample(range(1, n+1), n)\r\n",
        "\r\n",
        "def bubbleSort(arr, n):\r\n",
        "  \"\"\"\r\n",
        "    Fungsi yang akan men-sort array `arr` dengan algoritma\r\n",
        "    Bubble Sort dan mengembalikan lama waktu eksekusinya.\r\n",
        "  \r\n",
        "    I.S. : array `arr` berisikan `n` elemen.\r\n",
        "    F.S. : array `arr` terurut menaik dan fungsi\r\n",
        "           mengembalikan waktu eksekusi.\r\n",
        "  \"\"\"\r\n",
        "\r\n",
        "  start = time.time()\r\n",
        "  \r\n",
        "  # Bubble sort\r\n",
        "  for i in range(1, n):\r\n",
        "    for j in range(n-1, i-1, -1):\r\n",
        "      if arr[j] < arr[j-1]:\r\n",
        "        arr[j], arr[j-1] = arr[j-1], arr[j]\r\n",
        "\r\n",
        "  end = time.time()\r\n",
        "  return end - start\r\n",
        "\r\n",
        "def gnomeSort(arr, n):\r\n",
        "  \"\"\"\r\n",
        "    Fungsi yang akan men-sort array `arr` dengan algoritma\r\n",
        "    Gnome Sort dan mengembalikan lama waktu eksekusinya.\r\n",
        "  \r\n",
        "    I.S. : array `arr` berisikan `n` elemen.\r\n",
        "    F.S. : array `arr` terurut menaik dan fungsi\r\n",
        "           mengembalikan waktu eksekusi.\r\n",
        "  \"\"\"\r\n",
        "\r\n",
        "  start = time.time()\r\n",
        "\r\n",
        "  # Gnome Sort\r\n",
        "  pos = 0\r\n",
        "  while pos < n:\r\n",
        "    if pos == 0 or arr[pos] >= arr[pos-1]:\r\n",
        "      pos += 1\r\n",
        "    else:\r\n",
        "      arr[pos], arr[pos-1] = arr[pos-1], arr[pos]\r\n",
        "      pos -= 1\r\n",
        "\r\n",
        "  end = time.time()\r\n",
        "  return end - start\r\n",
        "\r\n",
        "def gambarGrafikEksekusi(times1, times2, ns):\r\n",
        "  \"\"\"\r\n",
        "    Prosedur untuk menampilkan grafik garis dari waktu eksekusi\r\n",
        "    antara 2 algoritma pengurutan dengan berbagai ukuran input.\r\n",
        "\r\n",
        "    I.S. : `times1` dan `times2` berisikan waktu eksekusi dari\r\n",
        "           dari 2 algoritma sorting pada array berukuran `ns`.\r\n",
        "    F.S. : grafik garis waktu eksekusi tertampilkan.\r\n",
        "  \"\"\"\r\n",
        "\r\n",
        "  # Membuat warna background grafik menjadi putih\r\n",
        "  fig = plt.figure()\r\n",
        "  fig.patch.set_facecolor('white')\r\n",
        "\r\n",
        "  # Menggambar waktu eksekusi untuk Bubble Sort dan Gnome Sort\r\n",
        "  plt.plot(ns, times1, label=\"Bubble Sort\")\r\n",
        "  plt.plot(ns, times2, label=\"Gnome Sort\")\r\n",
        "\r\n",
        "  # Menambahkan judul, label sumbu-x dan y, grid, dan legend\r\n",
        "  plt.xlabel(\"Besar Array Input\")\r\n",
        "  plt.ylabel(\"Waktu Eksekusi\")\r\n",
        "  plt.title(\"Perbandingan Waktu Eksekusi Bubble dan Gnome\")\r\n",
        "  plt.grid(alpha = 0.4)\r\n",
        "  plt.legend()\r\n",
        "\r\n",
        "  plt.show()"
      ],
      "execution_count": null,
      "outputs": []
    },
    {
      "cell_type": "code",
      "metadata": {
        "colab": {
          "base_uri": "https://localhost:8080/",
          "height": 786
        },
        "id": "yBCb8LMK7Ecm",
        "outputId": "7d1e5c44-f191-47c5-c9e8-bcf73832d14f"
      },
      "source": [
        "print(\"\"\"=== Program perbandingan Bubble dan Gnome Sort ===\r\n",
        "Pilih kondisi array\r\n",
        "1. Menaik\r\n",
        "2. Menurun\r\n",
        "3. Acak\r\n",
        "Masukkan angka : \"\"\", end=\"\")\r\n",
        "\r\n",
        "kasus = int(input())\r\n",
        "print()\r\n",
        "\r\n",
        "# arr dan arr2 sebagai array yang akan disort oleh kedua algoritma sort\r\n",
        "arr, arr2 = [], []\r\n",
        "# panjang-panjang array (n) yang ingin dicek eksekusi nya\r\n",
        "ns = [10, 100, 1000, 10000, 100000]\r\n",
        "# times1 dan times2 sebagai pencatat waktu eksekusi dari kedua algo sort\r\n",
        "times1, times2 = [], []\r\n",
        "\r\n",
        "for n in ns:\r\n",
        "  # arr, arr2 diisi dengan array yang sama berkondisi sesuai kasus yang diberikan\r\n",
        "  arr = generateInput(n, kasus)\r\n",
        "  arr2 = arr.copy()\r\n",
        "\r\n",
        "  # Mem-print waktu eksekusi kedua algoritma pada arr dan arr2 dan mencatat\r\n",
        "  # waktu eksekusi nya pada times1 dan times2\r\n",
        "  print(\"Waktu eksekusi (n = %d):\" % n)\r\n",
        "  print(\"- Bubble sort = \", end=\"\")\r\n",
        "  t = bubbleSort(arr, n)\r\n",
        "  times1.append(t)\r\n",
        "  print(\"%.8f detik\" % t)\r\n",
        "  print(\"- Gnome sort  = \", end=\"\")\r\n",
        "  t = gnomeSort(arr2, n)\r\n",
        "  times2.append(t)\r\n",
        "  print(\"%.8f detik\\n\" % t)\r\n",
        "\r\n",
        "# Menggambar grafik garis dari waktu eksekusi kedua algoritma\r\n",
        "gambarGrafikEksekusi(times1, times2, ns)"
      ],
      "execution_count": null,
      "outputs": [
        {
          "output_type": "stream",
          "text": [
            "=== Program perbandingan Bubble dan Gnome Sort ===\n",
            "Pilih kondisi array\n",
            "1. Menaik\n",
            "2. Menurun\n",
            "3. Acak\n",
            "Masukkan angka : 1\n",
            "\n",
            "Waktu eksekusi (n = 10):\n",
            "- Bubble sort = 0.00000882 detik\n",
            "- Gnome sort  = 0.00000429 detik\n",
            "\n",
            "Waktu eksekusi (n = 100):\n",
            "- Bubble sort = 0.00071263 detik\n",
            "- Gnome sort  = 0.00001884 detik\n",
            "\n",
            "Waktu eksekusi (n = 1000):\n",
            "- Bubble sort = 0.04475927 detik\n",
            "- Gnome sort  = 0.00011873 detik\n",
            "\n",
            "Waktu eksekusi (n = 10000):\n",
            "- Bubble sort = 3.93637776 detik\n",
            "- Gnome sort  = 0.00133419 detik\n",
            "\n",
            "Waktu eksekusi (n = 100000):\n",
            "- Bubble sort = 389.61381578 detik\n",
            "- Gnome sort  = 0.01347232 detik\n",
            "\n"
          ],
          "name": "stdout"
        },
        {
          "output_type": "display_data",
          "data": {
            "image/png": "[encoded data removed]",
            "text/plain": [
              "<Figure size 432x288 with 1 Axes>"
            ]
          },
          "metadata": {
            "tags": []
          }
        }
      ]
    }
  ]
}